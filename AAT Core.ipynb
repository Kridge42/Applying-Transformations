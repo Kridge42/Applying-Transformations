{
 "cells": [
  {
   "cell_type": "markdown",
   "id": "2d7d5a6d",
   "metadata": {},
   "source": [
    "# Applying Advanced Transformations"
   ]
  },
  {
   "cell_type": "code",
   "execution_count": 19,
   "id": "1943eb24",
   "metadata": {},
   "outputs": [],
   "source": [
    "## Standard Imports\n",
    "import numpy as np\n",
    "import pandas as pd\n",
    "import matplotlib.pyplot as plt\n",
    "import seaborn as sns\n",
    "\n",
    "## Importing the OS and JSON Modules\n",
    "import os,json"
   ]
  },
  {
   "cell_type": "code",
   "execution_count": 20,
   "id": "e7892d3d",
   "metadata": {},
   "outputs": [],
   "source": [
    "# Load the files\n",
    "names = pd.read_csv('Data/superhero_info - superhero_info.csv')\n",
    "power = pd.read_csv('Data/superhero_powers - superhero_powers.csv')"
   ]
  },
  {
   "cell_type": "markdown",
   "id": "24c329cb",
   "metadata": {},
   "source": [
    "## Clean the files and combine them into one final DataFrame."
   ]
  },
  {
   "cell_type": "code",
   "execution_count": 21,
   "id": "790e90f8",
   "metadata": {
    "scrolled": true
   },
   "outputs": [
    {
     "name": "stdout",
     "output_type": "stream",
     "text": [
      "<class 'pandas.core.frame.DataFrame'>\n",
      "RangeIndex: 463 entries, 0 to 462\n",
      "Data columns (total 8 columns):\n",
      " #   Column          Non-Null Count  Dtype \n",
      "---  ------          --------------  ----- \n",
      " 0   Hero|Publisher  463 non-null    object\n",
      " 1   Gender          463 non-null    object\n",
      " 2   Race            463 non-null    object\n",
      " 3   Alignment       463 non-null    object\n",
      " 4   Hair color      463 non-null    object\n",
      " 5   Eye color       463 non-null    object\n",
      " 6   Skin color      463 non-null    object\n",
      " 7   Measurements    463 non-null    object\n",
      "dtypes: object(8)\n",
      "memory usage: 29.1+ KB\n"
     ]
    }
   ],
   "source": [
    "# Display basic info for names dataframe\n",
    "names.info()"
   ]
  },
  {
   "cell_type": "code",
   "execution_count": 22,
   "id": "b9f051f2",
   "metadata": {},
   "outputs": [
    {
     "name": "stdout",
     "output_type": "stream",
     "text": [
      "<class 'pandas.core.frame.DataFrame'>\n",
      "RangeIndex: 667 entries, 0 to 666\n",
      "Data columns (total 2 columns):\n",
      " #   Column      Non-Null Count  Dtype \n",
      "---  ------      --------------  ----- \n",
      " 0   hero_names  667 non-null    object\n",
      " 1   Powers      667 non-null    object\n",
      "dtypes: object(2)\n",
      "memory usage: 10.5+ KB\n"
     ]
    }
   ],
   "source": [
    "# Display basic info for power dataframe\n",
    "power.info()"
   ]
  },
  {
   "cell_type": "code",
   "execution_count": 23,
   "id": "4d903f5b",
   "metadata": {},
   "outputs": [],
   "source": [
    "# Make all the columns lowercase\n",
    "names.columns = names.columns.str.lower()\n",
    "power.columns = power.columns.str.lower()"
   ]
  },
  {
   "cell_type": "code",
   "execution_count": 24,
   "id": "ef4d0cec",
   "metadata": {
    "scrolled": true
   },
   "outputs": [
    {
     "data": {
      "text/plain": [
       "0            A-Bomb|Marvel Comics\n",
       "1    Abe Sapien|Dark Horse Comics\n",
       "2              Abin Sur|DC Comics\n",
       "3       Abomination|Marvel Comics\n",
       "4     Absorbing Man|Marvel Comics\n",
       "Name: hero|publisher, dtype: object"
      ]
     },
     "execution_count": 24,
     "metadata": {},
     "output_type": "execute_result"
    }
   ],
   "source": [
    "# Check existing format for the doubled column\n",
    "names['hero|publisher'].head(5)"
   ]
  },
  {
   "cell_type": "code",
   "execution_count": 28,
   "id": "d0d84ef5",
   "metadata": {
    "scrolled": true
   },
   "outputs": [
    {
     "data": {
      "text/html": [
       "<div>\n",
       "<style scoped>\n",
       "    .dataframe tbody tr th:only-of-type {\n",
       "        vertical-align: middle;\n",
       "    }\n",
       "\n",
       "    .dataframe tbody tr th {\n",
       "        vertical-align: top;\n",
       "    }\n",
       "\n",
       "    .dataframe thead th {\n",
       "        text-align: right;\n",
       "    }\n",
       "</style>\n",
       "<table border=\"1\" class=\"dataframe\">\n",
       "  <thead>\n",
       "    <tr style=\"text-align: right;\">\n",
       "      <th></th>\n",
       "      <th>0</th>\n",
       "      <th>1</th>\n",
       "      <th>2</th>\n",
       "      <th>3</th>\n",
       "    </tr>\n",
       "  </thead>\n",
       "  <tbody>\n",
       "    <tr>\n",
       "      <th>0</th>\n",
       "      <td>A-Bomb|Marvel</td>\n",
       "      <td>Comics</td>\n",
       "      <td>None</td>\n",
       "      <td>None</td>\n",
       "    </tr>\n",
       "    <tr>\n",
       "      <th>1</th>\n",
       "      <td>Abe</td>\n",
       "      <td>Sapien|Dark</td>\n",
       "      <td>Horse</td>\n",
       "      <td>Comics</td>\n",
       "    </tr>\n",
       "    <tr>\n",
       "      <th>2</th>\n",
       "      <td>Abin</td>\n",
       "      <td>Sur|DC</td>\n",
       "      <td>Comics</td>\n",
       "      <td>None</td>\n",
       "    </tr>\n",
       "    <tr>\n",
       "      <th>3</th>\n",
       "      <td>Abomination|Marvel</td>\n",
       "      <td>Comics</td>\n",
       "      <td>None</td>\n",
       "      <td>None</td>\n",
       "    </tr>\n",
       "    <tr>\n",
       "      <th>4</th>\n",
       "      <td>Absorbing</td>\n",
       "      <td>Man|Marvel</td>\n",
       "      <td>Comics</td>\n",
       "      <td>None</td>\n",
       "    </tr>\n",
       "    <tr>\n",
       "      <th>...</th>\n",
       "      <td>...</td>\n",
       "      <td>...</td>\n",
       "      <td>...</td>\n",
       "      <td>...</td>\n",
       "    </tr>\n",
       "    <tr>\n",
       "      <th>458</th>\n",
       "      <td>Yellowjacket|Marvel</td>\n",
       "      <td>Comics</td>\n",
       "      <td>None</td>\n",
       "      <td>None</td>\n",
       "    </tr>\n",
       "    <tr>\n",
       "      <th>459</th>\n",
       "      <td>Yellowjacket</td>\n",
       "      <td>II|Marvel</td>\n",
       "      <td>Comics</td>\n",
       "      <td>None</td>\n",
       "    </tr>\n",
       "    <tr>\n",
       "      <th>460</th>\n",
       "      <td>Yoda|George</td>\n",
       "      <td>Lucas</td>\n",
       "      <td>None</td>\n",
       "      <td>None</td>\n",
       "    </tr>\n",
       "    <tr>\n",
       "      <th>461</th>\n",
       "      <td>Zatanna|DC</td>\n",
       "      <td>Comics</td>\n",
       "      <td>None</td>\n",
       "      <td>None</td>\n",
       "    </tr>\n",
       "    <tr>\n",
       "      <th>462</th>\n",
       "      <td>Zoom|DC</td>\n",
       "      <td>Comics</td>\n",
       "      <td>None</td>\n",
       "      <td>None</td>\n",
       "    </tr>\n",
       "  </tbody>\n",
       "</table>\n",
       "<p>463 rows × 4 columns</p>\n",
       "</div>"
      ],
      "text/plain": [
       "                       0            1       2       3\n",
       "0          A-Bomb|Marvel       Comics    None    None\n",
       "1                    Abe  Sapien|Dark   Horse  Comics\n",
       "2                   Abin       Sur|DC  Comics    None\n",
       "3     Abomination|Marvel       Comics    None    None\n",
       "4              Absorbing   Man|Marvel  Comics    None\n",
       "..                   ...          ...     ...     ...\n",
       "458  Yellowjacket|Marvel       Comics    None    None\n",
       "459         Yellowjacket    II|Marvel  Comics    None\n",
       "460          Yoda|George        Lucas    None    None\n",
       "461           Zatanna|DC       Comics    None    None\n",
       "462              Zoom|DC       Comics    None    None\n",
       "\n",
       "[463 rows x 4 columns]"
      ]
     },
     "execution_count": 28,
     "metadata": {},
     "output_type": "execute_result"
    }
   ],
   "source": [
    "# Seperate these pieces of information\n",
    "names['hero|publisher'].str.split(' ',expand=True)"
   ]
  },
  {
   "cell_type": "code",
   "execution_count": 30,
   "id": "bf9a7a70",
   "metadata": {
    "scrolled": false
   },
   "outputs": [
    {
     "data": {
      "text/html": [
       "<div>\n",
       "<style scoped>\n",
       "    .dataframe tbody tr th:only-of-type {\n",
       "        vertical-align: middle;\n",
       "    }\n",
       "\n",
       "    .dataframe tbody tr th {\n",
       "        vertical-align: top;\n",
       "    }\n",
       "\n",
       "    .dataframe thead th {\n",
       "        text-align: right;\n",
       "    }\n",
       "</style>\n",
       "<table border=\"1\" class=\"dataframe\">\n",
       "  <thead>\n",
       "    <tr style=\"text-align: right;\">\n",
       "      <th></th>\n",
       "      <th>gender</th>\n",
       "      <th>race</th>\n",
       "      <th>alignment</th>\n",
       "      <th>hair color</th>\n",
       "      <th>eye color</th>\n",
       "      <th>skin color</th>\n",
       "      <th>measurements</th>\n",
       "      <th>hero</th>\n",
       "      <th>publisher</th>\n",
       "    </tr>\n",
       "  </thead>\n",
       "  <tbody>\n",
       "    <tr>\n",
       "      <th>0</th>\n",
       "      <td>Male</td>\n",
       "      <td>Human</td>\n",
       "      <td>good</td>\n",
       "      <td>No Hair</td>\n",
       "      <td>yellow</td>\n",
       "      <td>Unknown</td>\n",
       "      <td>{'Height': '203.0 cm', 'Weight': '441.0 kg'}</td>\n",
       "      <td>A-Bomb</td>\n",
       "      <td>Marvel Comics</td>\n",
       "    </tr>\n",
       "    <tr>\n",
       "      <th>1</th>\n",
       "      <td>Male</td>\n",
       "      <td>Icthyo Sapien</td>\n",
       "      <td>good</td>\n",
       "      <td>No Hair</td>\n",
       "      <td>blue</td>\n",
       "      <td>blue</td>\n",
       "      <td>{'Height': '191.0 cm', 'Weight': '65.0 kg'}</td>\n",
       "      <td>Abe Sapien</td>\n",
       "      <td>Dark Horse Comics</td>\n",
       "    </tr>\n",
       "  </tbody>\n",
       "</table>\n",
       "</div>"
      ],
      "text/plain": [
       "  gender           race alignment hair color eye color skin color  \\\n",
       "0   Male          Human      good    No Hair    yellow    Unknown   \n",
       "1   Male  Icthyo Sapien      good    No Hair      blue       blue   \n",
       "\n",
       "                                   measurements        hero          publisher  \n",
       "0  {'Height': '203.0 cm', 'Weight': '441.0 kg'}      A-Bomb      Marvel Comics  \n",
       "1   {'Height': '191.0 cm', 'Weight': '65.0 kg'}  Abe Sapien  Dark Horse Comics  "
      ]
     },
     "execution_count": 30,
     "metadata": {},
     "output_type": "execute_result"
    }
   ],
   "source": [
    "# split on '|' and save the 2 new columns for the dataframe\n",
    "names[['hero','publisher']] = names['hero|publisher'].str.split('|',expand=True)\n",
    "\n",
    "# Drop the original column \n",
    "names = names.drop(columns=['hero|publisher'])\n",
    "\n",
    "# Display the new dataframe\n",
    "names.head(2)"
   ]
  },
  {
   "cell_type": "code",
   "execution_count": 31,
   "id": "0c6aa55c",
   "metadata": {
    "scrolled": true
   },
   "outputs": [
    {
     "name": "stdout",
     "output_type": "stream",
     "text": [
      "<class 'str'>\n"
     ]
    },
    {
     "data": {
      "text/plain": [
       "\"{'Height': '203.0 cm', 'Weight': '441.0 kg'}\""
      ]
     },
     "execution_count": 31,
     "metadata": {},
     "output_type": "execute_result"
    }
   ],
   "source": [
    "# Display the measurments type\n",
    "m = names.loc[0,\"measurements\"]\n",
    "print(type(m))\n",
    "m"
   ]
  },
  {
   "cell_type": "code",
   "execution_count": 32,
   "id": "03ddc61c",
   "metadata": {
    "scrolled": true
   },
   "outputs": [
    {
     "data": {
      "text/plain": [
       "'{\"Height\": \"203.0 cm\", \"Weight\": \"441.0 kg\"}'"
      ]
     },
     "execution_count": 32,
     "metadata": {},
     "output_type": "execute_result"
    }
   ],
   "source": [
    "# test the quotations replacement\n",
    "m = m.replace(\"'\",'\"')\n",
    "m"
   ]
  },
  {
   "cell_type": "code",
   "execution_count": 33,
   "id": "3e26ed43",
   "metadata": {
    "scrolled": true
   },
   "outputs": [
    {
     "data": {
      "text/plain": [
       "0    {'Height': '203.0 cm', 'Weight': '441.0 kg'}\n",
       "1     {'Height': '191.0 cm', 'Weight': '65.0 kg'}\n",
       "2     {'Height': '185.0 cm', 'Weight': '90.0 kg'}\n",
       "3    {'Height': '203.0 cm', 'Weight': '441.0 kg'}\n",
       "4    {'Height': '193.0 cm', 'Weight': '122.0 kg'}\n",
       "Name: measurements, dtype: object"
      ]
     },
     "execution_count": 33,
     "metadata": {},
     "output_type": "execute_result"
    }
   ],
   "source": [
    "# Use .str.replace to replace all single quotes\n",
    "names['measurements'] = names['measurements'].str.replace(\"'\",'\"')\n",
    "\n",
    "# Apply the json.loads to the full column\n",
    "names['measurements'] = names['measurements'].apply(json.loads)\n",
    "names['measurements'].head()"
   ]
  },
  {
   "cell_type": "code",
   "execution_count": 37,
   "id": "81b82377",
   "metadata": {
    "scrolled": true
   },
   "outputs": [
    {
     "data": {
      "text/html": [
       "<div>\n",
       "<style scoped>\n",
       "    .dataframe tbody tr th:only-of-type {\n",
       "        vertical-align: middle;\n",
       "    }\n",
       "\n",
       "    .dataframe tbody tr th {\n",
       "        vertical-align: top;\n",
       "    }\n",
       "\n",
       "    .dataframe thead th {\n",
       "        text-align: right;\n",
       "    }\n",
       "</style>\n",
       "<table border=\"1\" class=\"dataframe\">\n",
       "  <thead>\n",
       "    <tr style=\"text-align: right;\">\n",
       "      <th></th>\n",
       "      <th>Height</th>\n",
       "      <th>Weight</th>\n",
       "    </tr>\n",
       "  </thead>\n",
       "  <tbody>\n",
       "    <tr>\n",
       "      <th>0</th>\n",
       "      <td>203.0 cm</td>\n",
       "      <td>441.0 kg</td>\n",
       "    </tr>\n",
       "    <tr>\n",
       "      <th>1</th>\n",
       "      <td>191.0 cm</td>\n",
       "      <td>65.0 kg</td>\n",
       "    </tr>\n",
       "    <tr>\n",
       "      <th>2</th>\n",
       "      <td>185.0 cm</td>\n",
       "      <td>90.0 kg</td>\n",
       "    </tr>\n",
       "    <tr>\n",
       "      <th>3</th>\n",
       "      <td>203.0 cm</td>\n",
       "      <td>441.0 kg</td>\n",
       "    </tr>\n",
       "    <tr>\n",
       "      <th>4</th>\n",
       "      <td>193.0 cm</td>\n",
       "      <td>122.0 kg</td>\n",
       "    </tr>\n",
       "    <tr>\n",
       "      <th>...</th>\n",
       "      <td>...</td>\n",
       "      <td>...</td>\n",
       "    </tr>\n",
       "    <tr>\n",
       "      <th>458</th>\n",
       "      <td>183.0 cm</td>\n",
       "      <td>83.0 kg</td>\n",
       "    </tr>\n",
       "    <tr>\n",
       "      <th>459</th>\n",
       "      <td>165.0 cm</td>\n",
       "      <td>52.0 kg</td>\n",
       "    </tr>\n",
       "    <tr>\n",
       "      <th>460</th>\n",
       "      <td>66.0 cm</td>\n",
       "      <td>17.0 kg</td>\n",
       "    </tr>\n",
       "    <tr>\n",
       "      <th>461</th>\n",
       "      <td>170.0 cm</td>\n",
       "      <td>57.0 kg</td>\n",
       "    </tr>\n",
       "    <tr>\n",
       "      <th>462</th>\n",
       "      <td>185.0 cm</td>\n",
       "      <td>81.0 kg</td>\n",
       "    </tr>\n",
       "  </tbody>\n",
       "</table>\n",
       "<p>463 rows × 2 columns</p>\n",
       "</div>"
      ],
      "text/plain": [
       "       Height    Weight\n",
       "0    203.0 cm  441.0 kg\n",
       "1    191.0 cm   65.0 kg\n",
       "2    185.0 cm   90.0 kg\n",
       "3    203.0 cm  441.0 kg\n",
       "4    193.0 cm  122.0 kg\n",
       "..        ...       ...\n",
       "458  183.0 cm   83.0 kg\n",
       "459  165.0 cm   52.0 kg\n",
       "460   66.0 cm   17.0 kg\n",
       "461  170.0 cm   57.0 kg\n",
       "462  185.0 cm   81.0 kg\n",
       "\n",
       "[463 rows x 2 columns]"
      ]
     },
     "execution_count": 37,
     "metadata": {},
     "output_type": "execute_result"
    }
   ],
   "source": [
    "# Use pd.Series to convert each key in the dictionary to new column\n",
    "hw = names['measurements'].apply(pd.Series)\n",
    "hw"
   ]
  },
  {
   "cell_type": "code",
   "execution_count": 38,
   "id": "bff06ac0",
   "metadata": {
    "scrolled": true
   },
   "outputs": [
    {
     "data": {
      "text/html": [
       "<div>\n",
       "<style scoped>\n",
       "    .dataframe tbody tr th:only-of-type {\n",
       "        vertical-align: middle;\n",
       "    }\n",
       "\n",
       "    .dataframe tbody tr th {\n",
       "        vertical-align: top;\n",
       "    }\n",
       "\n",
       "    .dataframe thead th {\n",
       "        text-align: right;\n",
       "    }\n",
       "</style>\n",
       "<table border=\"1\" class=\"dataframe\">\n",
       "  <thead>\n",
       "    <tr style=\"text-align: right;\">\n",
       "      <th></th>\n",
       "      <th>gender</th>\n",
       "      <th>race</th>\n",
       "      <th>alignment</th>\n",
       "      <th>hair color</th>\n",
       "      <th>eye color</th>\n",
       "      <th>skin color</th>\n",
       "      <th>measurements</th>\n",
       "      <th>hero</th>\n",
       "      <th>publisher</th>\n",
       "      <th>Height</th>\n",
       "      <th>Weight</th>\n",
       "    </tr>\n",
       "  </thead>\n",
       "  <tbody>\n",
       "    <tr>\n",
       "      <th>0</th>\n",
       "      <td>Male</td>\n",
       "      <td>Human</td>\n",
       "      <td>good</td>\n",
       "      <td>No Hair</td>\n",
       "      <td>yellow</td>\n",
       "      <td>Unknown</td>\n",
       "      <td>{'Height': '203.0 cm', 'Weight': '441.0 kg'}</td>\n",
       "      <td>A-Bomb</td>\n",
       "      <td>Marvel Comics</td>\n",
       "      <td>203.0 cm</td>\n",
       "      <td>441.0 kg</td>\n",
       "    </tr>\n",
       "    <tr>\n",
       "      <th>1</th>\n",
       "      <td>Male</td>\n",
       "      <td>Icthyo Sapien</td>\n",
       "      <td>good</td>\n",
       "      <td>No Hair</td>\n",
       "      <td>blue</td>\n",
       "      <td>blue</td>\n",
       "      <td>{'Height': '191.0 cm', 'Weight': '65.0 kg'}</td>\n",
       "      <td>Abe Sapien</td>\n",
       "      <td>Dark Horse Comics</td>\n",
       "      <td>191.0 cm</td>\n",
       "      <td>65.0 kg</td>\n",
       "    </tr>\n",
       "  </tbody>\n",
       "</table>\n",
       "</div>"
      ],
      "text/plain": [
       "  gender           race alignment hair color eye color skin color  \\\n",
       "0   Male          Human      good    No Hair    yellow    Unknown   \n",
       "1   Male  Icthyo Sapien      good    No Hair      blue       blue   \n",
       "\n",
       "                                   measurements        hero  \\\n",
       "0  {'Height': '203.0 cm', 'Weight': '441.0 kg'}      A-Bomb   \n",
       "1   {'Height': '191.0 cm', 'Weight': '65.0 kg'}  Abe Sapien   \n",
       "\n",
       "           publisher    Height    Weight  \n",
       "0      Marvel Comics  203.0 cm  441.0 kg  \n",
       "1  Dark Horse Comics  191.0 cm   65.0 kg  "
      ]
     },
     "execution_count": 38,
     "metadata": {},
     "output_type": "execute_result"
    }
   ],
   "source": [
    "# Concat the new columns with the original dataframe\n",
    "names = pd.concat((names, hw), axis = 1)\n",
    "names.head(2)"
   ]
  },
  {
   "cell_type": "code",
   "execution_count": 42,
   "id": "fdcb0685",
   "metadata": {},
   "outputs": [],
   "source": [
    "# Drop the measurments column\n",
    "names = names.drop(columns=['measurements'])"
   ]
  },
  {
   "cell_type": "code",
   "execution_count": 43,
   "id": "596d1dda",
   "metadata": {
    "scrolled": true
   },
   "outputs": [
    {
     "name": "stdout",
     "output_type": "stream",
     "text": [
      "<class 'pandas.core.frame.DataFrame'>\n",
      "RangeIndex: 463 entries, 0 to 462\n",
      "Data columns (total 10 columns):\n",
      " #   Column      Non-Null Count  Dtype \n",
      "---  ------      --------------  ----- \n",
      " 0   gender      463 non-null    object\n",
      " 1   race        463 non-null    object\n",
      " 2   alignment   463 non-null    object\n",
      " 3   hair color  463 non-null    object\n",
      " 4   eye color   463 non-null    object\n",
      " 5   skin color  463 non-null    object\n",
      " 6   hero        463 non-null    object\n",
      " 7   publisher   463 non-null    object\n",
      " 8   Height      463 non-null    object\n",
      " 9   Weight      463 non-null    object\n",
      "dtypes: object(10)\n",
      "memory usage: 36.3+ KB\n"
     ]
    }
   ],
   "source": [
    "# Display new info\n",
    "names.info()"
   ]
  },
  {
   "cell_type": "code",
   "execution_count": 46,
   "id": "f72b60f3",
   "metadata": {
    "scrolled": false
   },
   "outputs": [
    {
     "data": {
      "text/plain": [
       "183.0 cm    53\n",
       "188.0 cm    44\n",
       "180.0 cm    37\n",
       "185.0 cm    34\n",
       "178.0 cm    33\n",
       "175.0 cm    32\n",
       "168.0 cm    27\n",
       "165.0 cm    26\n",
       "170.0 cm    19\n",
       "193.0 cm    18\n",
       "191.0 cm    18\n",
       "198.0 cm    18\n",
       "173.0 cm    16\n",
       "196.0 cm    10\n",
       "201.0 cm    10\n",
       "163.0 cm     8\n",
       "203.0 cm     5\n",
       "157.0 cm     5\n",
       "213.0 cm     5\n",
       "211.0 cm     4\n",
       "244.0 cm     4\n",
       "218.0 cm     3\n",
       "155.0 cm     3\n",
       "229.0 cm     3\n",
       "137.0 cm     2\n",
       "366.0 cm     2\n",
       "206.0 cm     2\n",
       "305.0 cm     2\n",
       "122.0 cm     2\n",
       "226.0 cm     2\n",
       "279.0 cm     1\n",
       "234.0 cm     1\n",
       "15.2 cm      1\n",
       "160.0 cm     1\n",
       "64.0 cm      1\n",
       "259.0 cm     1\n",
       "287.0 cm     1\n",
       "71.0 cm      1\n",
       "701.0 cm     1\n",
       "62.5 cm      1\n",
       "876.0 cm     1\n",
       "142.0 cm     1\n",
       "975.0 cm     1\n",
       "267.0 cm     1\n",
       "257.0 cm     1\n",
       "66.0 cm      1\n",
       "Name: Height, dtype: int64"
      ]
     },
     "execution_count": 46,
     "metadata": {},
     "output_type": "execute_result"
    }
   ],
   "source": [
    "# Display values for Height\n",
    "names['Height'].value_counts()"
   ]
  },
  {
   "cell_type": "code",
   "execution_count": 47,
   "id": "ee56ca2e",
   "metadata": {
    "scrolled": true
   },
   "outputs": [
    {
     "data": {
      "text/plain": [
       "81.0 kg     22\n",
       "79.0 kg     21\n",
       "54.0 kg     20\n",
       "90.0 kg     19\n",
       "86.0 kg     15\n",
       "            ..\n",
       "268.0 kg     1\n",
       "16.0 kg      1\n",
       "167.0 kg     1\n",
       "45.0 kg      1\n",
       "17.0 kg      1\n",
       "Name: Weight, Length: 128, dtype: int64"
      ]
     },
     "execution_count": 47,
     "metadata": {},
     "output_type": "execute_result"
    }
   ],
   "source": [
    "# Display values for weight\n",
    "names['Weight'].value_counts()"
   ]
  },
  {
   "cell_type": "code",
   "execution_count": 48,
   "id": "805c5c46",
   "metadata": {},
   "outputs": [],
   "source": [
    "# Create a new column without characters for height \n",
    "names['height (cm)'] = names['Height'].str.replace(\"cm\",'')"
   ]
  },
  {
   "cell_type": "code",
   "execution_count": 49,
   "id": "8a8ef999",
   "metadata": {},
   "outputs": [],
   "source": [
    "# Create a new column without characters for weight\n",
    "names['weight (kg)'] = names['Weight'].str.replace(\"kg\",'')"
   ]
  },
  {
   "cell_type": "code",
   "execution_count": 54,
   "id": "c813af0a",
   "metadata": {},
   "outputs": [],
   "source": [
    "# drop the original columns\n",
    "names = names.drop(columns=['Height', 'Weight'])"
   ]
  },
  {
   "cell_type": "code",
   "execution_count": 63,
   "id": "55fa415f",
   "metadata": {
    "scrolled": true
   },
   "outputs": [],
   "source": [
    "# Change the 2 new columns to integers\n",
    "names['height (cm)'] = names['height (cm)'].astype(float)"
   ]
  },
  {
   "cell_type": "code",
   "execution_count": 64,
   "id": "f3162ae7",
   "metadata": {},
   "outputs": [],
   "source": [
    "# Change the 2 new columns to integers\n",
    "names['weight (kg)'] = names['weight (kg)'].astype(float)"
   ]
  },
  {
   "cell_type": "markdown",
   "id": "908e6d00",
   "metadata": {},
   "source": [
    "#### After looking back at the lp, I realized I could have used the loop code listed in step 2 of the advanced transformations instead."
   ]
  },
  {
   "cell_type": "code",
   "execution_count": 65,
   "id": "d72ca3d9",
   "metadata": {},
   "outputs": [
    {
     "name": "stdout",
     "output_type": "stream",
     "text": [
      "<class 'pandas.core.frame.DataFrame'>\n",
      "RangeIndex: 463 entries, 0 to 462\n",
      "Data columns (total 10 columns):\n",
      " #   Column       Non-Null Count  Dtype  \n",
      "---  ------       --------------  -----  \n",
      " 0   gender       463 non-null    object \n",
      " 1   race         463 non-null    object \n",
      " 2   alignment    463 non-null    object \n",
      " 3   hair color   463 non-null    object \n",
      " 4   eye color    463 non-null    object \n",
      " 5   skin color   463 non-null    object \n",
      " 6   hero         463 non-null    object \n",
      " 7   publisher    463 non-null    object \n",
      " 8   height (cm)  463 non-null    float64\n",
      " 9   weight (kg)  463 non-null    float64\n",
      "dtypes: float64(2), object(8)\n",
      "memory usage: 36.3+ KB\n"
     ]
    }
   ],
   "source": [
    "names.info()"
   ]
  },
  {
   "cell_type": "code",
   "execution_count": 66,
   "id": "697d2f3e",
   "metadata": {
    "scrolled": false
   },
   "outputs": [
    {
     "data": {
      "text/html": [
       "<div>\n",
       "<style scoped>\n",
       "    .dataframe tbody tr th:only-of-type {\n",
       "        vertical-align: middle;\n",
       "    }\n",
       "\n",
       "    .dataframe tbody tr th {\n",
       "        vertical-align: top;\n",
       "    }\n",
       "\n",
       "    .dataframe thead th {\n",
       "        text-align: right;\n",
       "    }\n",
       "</style>\n",
       "<table border=\"1\" class=\"dataframe\">\n",
       "  <thead>\n",
       "    <tr style=\"text-align: right;\">\n",
       "      <th></th>\n",
       "      <th>gender</th>\n",
       "      <th>race</th>\n",
       "      <th>alignment</th>\n",
       "      <th>hair color</th>\n",
       "      <th>eye color</th>\n",
       "      <th>skin color</th>\n",
       "      <th>hero</th>\n",
       "      <th>publisher</th>\n",
       "      <th>height (cm)</th>\n",
       "      <th>weight (kg)</th>\n",
       "    </tr>\n",
       "  </thead>\n",
       "  <tbody>\n",
       "    <tr>\n",
       "      <th>0</th>\n",
       "      <td>Male</td>\n",
       "      <td>Human</td>\n",
       "      <td>good</td>\n",
       "      <td>No Hair</td>\n",
       "      <td>yellow</td>\n",
       "      <td>Unknown</td>\n",
       "      <td>A-Bomb</td>\n",
       "      <td>Marvel Comics</td>\n",
       "      <td>203.0</td>\n",
       "      <td>441.0</td>\n",
       "    </tr>\n",
       "    <tr>\n",
       "      <th>1</th>\n",
       "      <td>Male</td>\n",
       "      <td>Icthyo Sapien</td>\n",
       "      <td>good</td>\n",
       "      <td>No Hair</td>\n",
       "      <td>blue</td>\n",
       "      <td>blue</td>\n",
       "      <td>Abe Sapien</td>\n",
       "      <td>Dark Horse Comics</td>\n",
       "      <td>191.0</td>\n",
       "      <td>65.0</td>\n",
       "    </tr>\n",
       "    <tr>\n",
       "      <th>2</th>\n",
       "      <td>Male</td>\n",
       "      <td>Ungaran</td>\n",
       "      <td>good</td>\n",
       "      <td>No Hair</td>\n",
       "      <td>blue</td>\n",
       "      <td>red</td>\n",
       "      <td>Abin Sur</td>\n",
       "      <td>DC Comics</td>\n",
       "      <td>185.0</td>\n",
       "      <td>90.0</td>\n",
       "    </tr>\n",
       "    <tr>\n",
       "      <th>3</th>\n",
       "      <td>Male</td>\n",
       "      <td>Human / Radiation</td>\n",
       "      <td>bad</td>\n",
       "      <td>No Hair</td>\n",
       "      <td>green</td>\n",
       "      <td>Unknown</td>\n",
       "      <td>Abomination</td>\n",
       "      <td>Marvel Comics</td>\n",
       "      <td>203.0</td>\n",
       "      <td>441.0</td>\n",
       "    </tr>\n",
       "    <tr>\n",
       "      <th>4</th>\n",
       "      <td>Male</td>\n",
       "      <td>Human</td>\n",
       "      <td>bad</td>\n",
       "      <td>No Hair</td>\n",
       "      <td>blue</td>\n",
       "      <td>Unknown</td>\n",
       "      <td>Absorbing Man</td>\n",
       "      <td>Marvel Comics</td>\n",
       "      <td>193.0</td>\n",
       "      <td>122.0</td>\n",
       "    </tr>\n",
       "  </tbody>\n",
       "</table>\n",
       "</div>"
      ],
      "text/plain": [
       "  gender               race alignment hair color eye color skin color  \\\n",
       "0   Male              Human      good    No Hair    yellow    Unknown   \n",
       "1   Male      Icthyo Sapien      good    No Hair      blue       blue   \n",
       "2   Male            Ungaran      good    No Hair      blue        red   \n",
       "3   Male  Human / Radiation       bad    No Hair     green    Unknown   \n",
       "4   Male              Human       bad    No Hair      blue    Unknown   \n",
       "\n",
       "            hero          publisher  height (cm)  weight (kg)  \n",
       "0         A-Bomb      Marvel Comics        203.0        441.0  \n",
       "1     Abe Sapien  Dark Horse Comics        191.0         65.0  \n",
       "2       Abin Sur          DC Comics        185.0         90.0  \n",
       "3    Abomination      Marvel Comics        203.0        441.0  \n",
       "4  Absorbing Man      Marvel Comics        193.0        122.0  "
      ]
     },
     "execution_count": 66,
     "metadata": {},
     "output_type": "execute_result"
    }
   ],
   "source": [
    "names.head(5)"
   ]
  }
 ],
 "metadata": {
  "kernelspec": {
   "display_name": "Python (dojo-env)",
   "language": "python",
   "name": "dojo-env"
  },
  "language_info": {
   "codemirror_mode": {
    "name": "ipython",
    "version": 3
   },
   "file_extension": ".py",
   "mimetype": "text/x-python",
   "name": "python",
   "nbconvert_exporter": "python",
   "pygments_lexer": "ipython3",
   "version": "3.9.15"
  },
  "toc": {
   "base_numbering": 1,
   "nav_menu": {},
   "number_sections": true,
   "sideBar": true,
   "skip_h1_title": false,
   "title_cell": "Table of Contents",
   "title_sidebar": "Contents",
   "toc_cell": false,
   "toc_position": {},
   "toc_section_display": true,
   "toc_window_display": false
  }
 },
 "nbformat": 4,
 "nbformat_minor": 5
}
